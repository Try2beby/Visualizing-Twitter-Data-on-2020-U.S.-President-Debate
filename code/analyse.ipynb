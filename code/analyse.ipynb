{
 "cells": [
  {
   "cell_type": "code",
   "execution_count": 2,
   "metadata": {},
   "outputs": [
    {
     "name": "stdout",
     "output_type": "stream",
     "text": [
      "{'to', 'you', 'do', 'yourselves', 'cannot', 'both', \"what's\", 'like', 'such', 'it', 'www', 'any', 'she', 'own', 'each', \"why's\", 'theirs', \"didn't\", 'whom', 'from', \"i'd\", 'in', 'himself', 'also', 'this', 'off', 'what', \"she'd\", \"can't\", 'with', 'was', 'has', 'have', 'but', \"mustn't\", \"he'd\", 'if', 'some', 'where', 'after', 'be', 'r', 'here', 'else', 'ever', \"we'd\", 'under', 'hence', 'once', 'up', 'that', 'am', 'are', 'most', 'out', 'there', 'myself', 'shall', 'since', \"hadn't\", 'him', \"you've\", 'then', 'than', \"when's\", \"it's\", 'ought', 'or', \"we're\", 'more', 'our', 'over', 'few', \"they'll\", 'until', \"let's\", \"we'll\", \"we've\", 'during', 'can', \"you'd\", 'only', 'because', \"how's\", 'for', 'a', \"they've\", 'get', \"you're\", 'just', \"who's\", 'he', 'i', 'into', 'against', \"hasn't\", \"weren't\", 'yours', \"where's\", \"won't\", \"here's\", \"he'll\", 'of', \"shan't\", \"aren't\", \"there's\", \"shouldn't\", \"that's\", 'we', 'com', 'other', 'their', \"she'll\", 'why', 'would', 'therefore', \"i'm\", 'at', 'http', 'on', 'his', 'between', 'no', 'the', 'above', 'is', 'had', \"wouldn't\", 'having', 'my', 'hers', 'all', 'its', 'were', 'while', 'been', 'further', 'same', 'when', \"don't\", 'by', \"he's\", 'k', 'below', 'they', 'these', \"they're\", \"haven't\", 'before', 'otherwise', 'her', 'an', 'does', 'doing', \"i've\", 'about', 'should', 'again', 'could', 'so', 'too', 'however', 'nor', \"couldn't\", 'ourselves', 'your', 'and', 'very', \"you'll\", 'down', \"doesn't\", 'itself', 'through', 'me', 'as', 'how', 'did', \"i'll\", 'them', 'being', 'themselves', \"wasn't\", \"they'd\", 'who', 'herself', 'those', \"she's\", 'ours', \"isn't\", 'yourself', 'which', 'not'}\n"
     ]
    }
   ],
   "source": []
  }
 ],
 "metadata": {
  "kernelspec": {
   "display_name": "myenv",
   "language": "python",
   "name": "python3"
  },
  "language_info": {
   "codemirror_mode": {
    "name": "ipython",
    "version": 3
   },
   "file_extension": ".py",
   "mimetype": "text/x-python",
   "name": "python",
   "nbconvert_exporter": "python",
   "pygments_lexer": "ipython3",
   "version": "3.11.4"
  }
 },
 "nbformat": 4,
 "nbformat_minor": 2
}
