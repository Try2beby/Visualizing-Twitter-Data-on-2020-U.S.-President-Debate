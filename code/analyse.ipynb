{
 "cells": [
  {
   "cell_type": "code",
   "execution_count": 6,
   "metadata": {},
   "outputs": [
    {
     "name": "stdout",
     "output_type": "stream",
     "text": [
      "84695\n"
     ]
    }
   ],
   "source": [
    "import pandas as pd\n",
    "\n",
    "import sys\n",
    "import json\n",
    "import os\n",
    "from googletrans import Translator\n",
    "\n",
    "translator = Translator()\n",
    "\n",
    "dataDir = \"../rawdata/\"\n",
    "translateDir = \"../translate/\"\n",
    "dataName = \"2020-10-2%d.json\"\n",
    "day = range(6)\n",
    "\n",
    "\n",
    "def loadJson2Df(dataDir, dataName, day):\n",
    "    with open(os.path.join(dataDir, dataName % (day)), \"r\") as f:\n",
    "        lines = f.readlines()\n",
    "    # Parse each line as a JSON object and add to a list\n",
    "    data = [json.loads(line) for line in lines]\n",
    "    print(len(data))\n",
    "    df = pd.DataFrame(data)\n",
    "    return df\n",
    "\n",
    "\n",
    "df = loadJson2Df(dataDir, dataName, 1)"
   ]
  },
  {
   "cell_type": "code",
   "execution_count": 2,
   "metadata": {},
   "outputs": [
    {
     "data": {
      "text/plain": [
       "Index(['id', 'conversation_id', 'created_at', 'date', 'time', 'timezone',\n",
       "       'user_id', 'username', 'name', 'place', 'tweet', 'language', 'mentions',\n",
       "       'urls', 'photos', 'replies_count', 'retweets_count', 'likes_count',\n",
       "       'hashtags', 'cashtags', 'link', 'retweet', 'quote_url', 'video',\n",
       "       'thumbnail', 'near', 'geo', 'source', 'user_rt_id', 'user_rt',\n",
       "       'retweet_id', 'reply_to', 'retweet_date', 'translate', 'trans_src',\n",
       "       'trans_dest'],\n",
       "      dtype='object')"
      ]
     },
     "execution_count": 2,
     "metadata": {},
     "output_type": "execute_result"
    }
   ],
   "source": [
    "df.columns"
   ]
  },
  {
   "cell_type": "code",
   "execution_count": 7,
   "metadata": {},
   "outputs": [
    {
     "name": "stdout",
     "output_type": "stream",
     "text": [
      "id 84695\n",
      "conversation_id 72375\n",
      "created_at 51068\n",
      "date 2\n",
      "time 51068\n",
      "timezone 1\n",
      "user_id 48198\n",
      "username 48198\n",
      "name 46141\n",
      "place\n",
      "tweet 79468\n",
      "language 52\n",
      "mentions\n",
      "urls\n",
      "photos\n",
      "replies_count 104\n",
      "retweets_count 259\n",
      "likes_count 446\n",
      "hashtags\n",
      "cashtags\n",
      "link 84695\n",
      "retweet 1\n",
      "quote_url 12460\n",
      "video 2\n",
      "thumbnail 15896\n",
      "near 1\n",
      "geo 1\n",
      "source 1\n",
      "user_rt_id 1\n",
      "user_rt 1\n",
      "retweet_id 1\n",
      "reply_to\n",
      "retweet_date 1\n",
      "translate 1\n",
      "trans_src 1\n",
      "trans_dest 1\n"
     ]
    }
   ],
   "source": [
    "for col in df.columns:\n",
    "    try:\n",
    "        print(col, df[col].nunique())\n",
    "    except:\n",
    "        print(col)"
   ]
  }
 ],
 "metadata": {
  "kernelspec": {
   "display_name": "myenv",
   "language": "python",
   "name": "python3"
  },
  "language_info": {
   "codemirror_mode": {
    "name": "ipython",
    "version": 3
   },
   "file_extension": ".py",
   "mimetype": "text/x-python",
   "name": "python",
   "nbconvert_exporter": "python",
   "pygments_lexer": "ipython3",
   "version": "3.11.4"
  }
 },
 "nbformat": 4,
 "nbformat_minor": 2
}
