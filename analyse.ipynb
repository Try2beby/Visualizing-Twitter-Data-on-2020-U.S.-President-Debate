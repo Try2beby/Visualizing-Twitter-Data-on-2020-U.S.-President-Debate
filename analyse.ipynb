{
 "cells": [
  {
   "cell_type": "code",
   "execution_count": 2,
   "metadata": {},
   "outputs": [],
   "source": []
  },
  {
   "cell_type": "markdown",
   "metadata": {},
   "source": [
    "重要信息: `id`,`time`,`user_id`,`username`,`tweet`,`language`\n",
    "可用以评价 tweet 影响力的信息：`replies_cout`,`retweets_count`,`likes_count`\n",
    "可判断 tweet 话题的信息：`hashtags`,`mentions`\n"
   ]
  },
  {
   "cell_type": "markdown",
   "metadata": {},
   "source": [
    "主要语言为英语，为方便处理，将其他语言的 tweet 翻译为英语，只保留出现频次大于 100 的语言\n"
   ]
  },
  {
   "cell_type": "code",
   "execution_count": 5,
   "metadata": {},
   "outputs": [
    {
     "name": "stdout",
     "output_type": "stream",
     "text": [
      "language\n",
      "en     58020\n",
      "und     9983\n",
      "es      1055\n",
      "fr       897\n",
      "de       673\n",
      "it       379\n",
      "pt       253\n",
      "tl       223\n",
      "fa       203\n",
      "nl       192\n",
      "hi       161\n",
      "Name: count, dtype: int64\n"
     ]
    }
   ],
   "source": [
    "# keep rows with frequency of corresponding language > 100\n",
    "language = df[\"language\"].value_counts() >= 100\n",
    "language = language[language].index.tolist()\n",
    "df = df[df[\"language\"].isin(language)]\n",
    "print(df[\"language\"].value_counts())"
   ]
  },
  {
   "cell_type": "code",
   "execution_count": 8,
   "metadata": {},
   "outputs": [],
   "source": [
    "import nltk\n",
    "from nltk.sentiment.vader import SentimentIntensityAnalyzer\n",
    "\n",
    "# Download the vader_lexicon\n",
    "# nltk.download('vader_lexicon')\n",
    "\n",
    "# Create a SentimentIntensityAnalyzer object\n",
    "sia = SentimentIntensityAnalyzer()\n",
    "\n",
    "\n",
    "# Create a function to get the polarity scores of each tweet\n",
    "def get_polarity_scores(tweet):\n",
    "    return sia.polarity_scores(tweet)\n",
    "\n",
    "\n",
    "# add polarity scores to df\n",
    "df_en[\"polarity_scores\"] = df_en[\"tweet\"].apply(get_polarity_scores)"
   ]
  }
 ],
 "metadata": {
  "kernelspec": {
   "display_name": "myenv",
   "language": "python",
   "name": "python3"
  },
  "language_info": {
   "codemirror_mode": {
    "name": "ipython",
    "version": 3
   },
   "file_extension": ".py",
   "mimetype": "text/x-python",
   "name": "python",
   "nbconvert_exporter": "python",
   "pygments_lexer": "ipython3",
   "version": "3.8.10"
  }
 },
 "nbformat": 4,
 "nbformat_minor": 2
}
